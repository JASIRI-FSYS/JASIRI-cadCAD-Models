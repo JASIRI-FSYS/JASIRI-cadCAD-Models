{
 "cells": [
  {
   "cell_type": "markdown",
   "metadata": {},
   "source": [
    "# Section 5: Market Capitalization Model\n",
    "\n",
    "---"
   ]
  },
  {
   "cell_type": "markdown",
   "metadata": {
    "slideshow": {
     "slide_type": "subslide"
    }
   },
   "source": [
    "## Model Introduction\n",
    "\n",
    "### Purpose\n",
    "\n",
    "This model is meant to forecast the evolution of the market capitalization (cap) in discrete time. Market cap is treated as the sum of cash commitments.\n",
    "\n",
    "### Definitions\n",
    "1. Afropreneur: African entrepreneur\n",
    "2. ${N}$: number of afropreneurs\n",
    "3. ${\\mu}$: average afropreneur investable capital (and thus cash commitment)\n",
    "4. ${\\sigma}$: standard deviation of investable capital\n",
    "\n",
    "\n",
    "### Questions\n",
    "\n",
    "1. Given ${\\mu}$, ${\\sigma}$, and ${N}$, what will be the market cap after time ${t}$.\n",
    "2. How do different market conditions affect the market cap.\n",
    "\n",
    "\n",
    "### Assumptions\n",
    "\n",
    "1. Afropreneur investable capital is normally distributed.\n",
    "2. Afropreneur attitude toward JASIRI is positively correlated with their attitude to the general economy and the cryptocurrency economy.\n",
    "\n",
    "\n",
    "### Constraints / Scope\n",
    "\n",
    "* Due to limited market data e.g. multiple detailed accounts of the local African entrepreneurial scene to momentous economic events in history, we do not have a robust reference to compare our model forecasts with.\n",
    "\n",
    "\n",
    "### Model input\n",
    "\n",
    "1. The following quantifiable metrics of the afropreneur landscape: ${N}$, ${\\mu}$, ${\\sigma}$.\n",
    "\n",
    "\n",
    "2. Market conditions.\n",
    "\n",
    "\n",
    "### Model description\n",
    "\n",
    "Market capitalization shall be modelled using the following:\n",
    "\n",
    "   1. suitable ranges of cash commitments, ${x}$ to ${x+ \\Delta x}$ for all ${x}$ in the range of consideration\n",
    "   \n",
    "   \n",
    "   2. the probabilities of getting cash commitments in those ranges, $$ P(x \\le X \\le x+\\Delta x) = \\int_{x}^{x+ \\Delta x} \\frac{1}{\\sigma \\sqrt{2\\pi}} e^{-\\frac{1}{2}(\\frac{t-\\mu}{\\sigma})^2} \\, dt $$ <br>\n",
    "   The Gaussian/ normal probability distribution is used.\n",
    "   \n",
    "   \n",
    "   3. the expected number of afropreneurs to commit per range, ${n}$. <br>\n",
    "      ${k \\cdot n = N}$ i.e. ${k}$ number of ranges.\n",
    "\n",
    "<br>\n",
    "\n",
    "The expected amount of cash commitments in each range is then calculated as: $$ \\int_{x}^{x+ \\Delta x} t \\cdot \\frac{1}{\\sigma \\sqrt{2\\pi}} e^{-\\frac{1}{2}(\\frac{t-\\mu}{\\sigma})^2} \\, dt \\quad {\\large =} \\quad \\int_{x}^{x+ \\Delta x} t \\cdot P(X=x) \\, dt $$\n",
    "\n",
    "and the total amount of cash commitments in that range as:$$ n \\cdot \\int_{x}^{x+ \\Delta x} t \\cdot P(X=x) \\, dt $$\n",
    "\n",
    "Thus the market capitalization will be calculated as $$ \\sum_{j=0}^{k-1} \\; n \\cdot \\int_{x_j}^{x_j+ \\Delta x} t \\cdot P(X=x) \\, dt $$\n",
    "\n",
    "\n",
    "### Shortcomings of the model\n",
    "\n",
    "${n}$, the number of afropreneurs per range, is treated as constant in the model. It should eventually be variable subject to the afropreneur landscape that will be defined and refined later, and the varied response to different market conditions along of the spectrum of these afropreneurs."
   ]
  },
  {
   "cell_type": "markdown",
   "metadata": {},
   "source": [
    "\n",
    "\n"
   ]
  },
  {
   "cell_type": "markdown",
   "metadata": {},
   "source": [
    "## 0. Dependencies"
   ]
  },
  {
   "cell_type": "code",
   "execution_count": 5,
   "metadata": {},
   "outputs": [],
   "source": [
    "import math\n",
    "import pandas as pd\n",
    "from scipy.integrate import quad\n",
    "from scipy.stats import norm\n",
    "\n",
    "# cadCAD configuration modules\n",
    "from cadCAD.configuration.utils import config_sim\n",
    "from cadCAD.configuration import Experiment\n",
    "\n",
    "# cadCAD simulation engine modules\n",
    "from cadCAD.engine import ExecutionMode, ExecutionContext\n",
    "from cadCAD.engine import Executor"
   ]
  },
  {
   "cell_type": "markdown",
   "metadata": {},
   "source": [
    "## 1. State Variables"
   ]
  },
  {
   "cell_type": "code",
   "execution_count": 6,
   "metadata": {},
   "outputs": [],
   "source": [
    "initial_state = {\n",
    "    'market_cap': 0\n",
    "}"
   ]
  },
  {
   "cell_type": "markdown",
   "metadata": {},
   "source": [
    "# 2. System Parameters\n",
    "\n",
    "> These are variables that impact the behaviour of the model. They allow consideration of how the system behaves under a different model parameter set (and different parameter values)."
   ]
  },
  {
   "cell_type": "code",
   "execution_count": 7,
   "metadata": {},
   "outputs": [],
   "source": [
    "system_params = {\n",
    "    'num_afropreneurs': [600000],\n",
    "    'avg_investable_capital': [30],  # all values in US dollars, unless stated otherwise\n",
    "    'std_dev_investable_capital': [20]\n",
    "    #'market_conditions': {}\n",
    "}"
   ]
  },
  {
   "cell_type": "markdown",
   "metadata": {},
   "source": [
    "# 3. Policy Functions\n",
    "\n",
    "> A Policy Function computes one or more signals to be passed to State Update Functions. They describe the logic  and behaviour of a system component  or mechanism."
   ]
  },
  {
   "cell_type": "code",
   "execution_count": 15,
   "metadata": {},
   "outputs": [
    {
     "name": "stdout",
     "output_type": "stream",
     "text": [
      "{'delta_purchase': 30049.279905607465}\n"
     ]
    }
   ],
   "source": [
    "# utility functions: functions that other constructs in the model make use of, and are abstracted away for simplicity\n",
    "def normal_dist(x):\n",
    "    return x * norm.pdf(x, system_params['avg_investable_capital'], system_params['std_dev_investable_capital'])\n",
    "\n",
    "\n",
    "def p_purchase_simulation(params, substep, state_history, previous_state):\n",
    "    purchase = 0\n",
    "    commitment_range = len(range(params['avg_investable_capital'][0]-(2*params['std_dev_investable_capital'][0]),\n",
    "                             params['avg_investable_capital'][0]+(2*params['std_dev_investable_capital'][0])))\n",
    "    afropren_batch_size = 1000  # f(market states)\n",
    "    cash_batch_size = commitment_range / (600000 / afropren_batch_size)\n",
    "    lower_cash_value = 0\n",
    "    for i in range(math.ceil(600000 / afropren_batch_size)):\n",
    "        purchase += afropren_batch_size * quad(normal_dist, lower_cash_value, lower_cash_value + cash_batch_size)[0]\n",
    "        lower_cash_value += cash_batch_size\n",
    "    return {'delta_purchase': purchase}\n",
    "\n",
    "\n",
    "print(p_purchase_simulation(system_params, 2, [], {}))"
   ]
  },
  {
   "cell_type": "markdown",
   "metadata": {},
   "source": [
    "# 4. State Update Functions"
   ]
  },
  {
   "cell_type": "markdown",
   "metadata": {},
   "source": [
    "> We create State Update Functions to design the way our model state changes over time."
   ]
  },
  {
   "cell_type": "code",
   "execution_count": 9,
   "metadata": {},
   "outputs": [],
   "source": [
    "def s_update_market_cap(params, substep, state_history, previous_state, policy_input):\n",
    "    global market_cap\n",
    "    market_cap = previous_state['market_cap'] + policy_input['delta_purchase']\n",
    "    return market_cap"
   ]
  },
  {
   "cell_type": "code",
   "execution_count": 10,
   "metadata": {},
   "outputs": [
    {
     "data": {
      "text/plain": [
       "30049.279905607465"
      ]
     },
     "execution_count": 10,
     "metadata": {},
     "output_type": "execute_result"
    }
   ],
   "source": [
    "# Relevant state variables\n",
    "market_cap = initial_state['market_cap']"
   ]
  },
  {
   "cell_type": "code",
   "execution_count": 16,
   "metadata": {},
   "outputs": [
    {
     "data": {
      "text/plain": [
       "{'market_cap': 30049.279905607465}"
      ]
     },
     "execution_count": 16,
     "metadata": {},
     "output_type": "execute_result"
    }
   ],
   "source": [
    "next_state = {\n",
    "    'market_cap': s_update_market_cap(system_params, 2, [], initial_state, p_purchase_simulation(system_params, 2, [], initial_state)),\n",
    "}\n",
    "next_state"
   ]
  },
  {
   "cell_type": "markdown",
   "metadata": {},
   "source": [
    "# 5. Partial State Update Blocks\n",
    "## Tying it all together\n",
    "\n",
    "> A series of Partial State Update Blocks is a structure for composing State Update Functions and Policy Functions in series or parallel, as a representation of the system model. "
   ]
  },
  {
   "cell_type": "markdown",
   "metadata": {},
   "source": [
    "**Updates run in parallel**"
   ]
  },
  {
   "cell_type": "code",
   "execution_count": null,
   "metadata": {},
   "outputs": [],
   "source": [
    "partial_state_update_blocks = [\n",
    "    {\n",
    "        'policies': {\n",
    "        },\n",
    "        'variables': {\n",
    "            'market_cap': s_update_market_cap\n",
    "        }\n",
    "    }\n",
    "]"
   ]
  },
  {
   "cell_type": "markdown",
   "metadata": {},
   "source": [
    "# 6. Configuration"
   ]
  },
  {
   "cell_type": "markdown",
   "metadata": {},
   "source": [
    "> The configuration stage is about tying all the previous model components together and choosing how the simulation should run."
   ]
  },
  {
   "cell_type": "markdown",
   "metadata": {},
   "source": [
    "<center>\n",
    "<img src=\"./images/cadcad-flow.png\"\n",
    "     alt=\"cadCAD flow\"\n",
    "     style=\"width: 25%;\" />\n",
    "</center>"
   ]
  },
  {
   "cell_type": "markdown",
   "metadata": {},
   "source": [
    "Configuration parameters:\n",
    "* `'N': 1` - the number of times we'll run the simulation (you'll see them called \"Monte Carlo runs\" later in the course, when we look at tools to analyze system models)\n",
    "* `'T': range(400)` - the number of timesteps the simulation will run for\n",
    "* `'M': system_params` - the parameters of the system"
   ]
  },
  {
   "cell_type": "code",
   "execution_count": null,
   "metadata": {},
   "outputs": [],
   "source": [
    "sim_config = config_sim({\n",
    "    \"N\": 1,\n",
    "    \"T\": range(1),\n",
    "    \"M\": system_params\n",
    "})"
   ]
  },
  {
   "cell_type": "code",
   "execution_count": null,
   "metadata": {},
   "outputs": [],
   "source": [
    "from cadCAD import configs\n",
    "del configs[:] # Clear any prior configs"
   ]
  },
  {
   "cell_type": "code",
   "execution_count": null,
   "metadata": {},
   "outputs": [],
   "source": [
    "experiment = Experiment()\n",
    "experiment.append_configs(\n",
    "    initial_state = initial_state,\n",
    "    partial_state_update_blocks = partial_state_update_blocks,\n",
    "    sim_configs = sim_config\n",
    ")"
   ]
  },
  {
   "cell_type": "markdown",
   "metadata": {},
   "source": [
    "# 7. Execution\n",
    "\n",
    "> The Execution Engine takes a model and configuration, and computes the simulation output."
   ]
  },
  {
   "cell_type": "markdown",
   "metadata": {},
   "source": [
    "## Configuring the cadCAD simulation execution"
   ]
  },
  {
   "cell_type": "code",
   "execution_count": null,
   "metadata": {},
   "outputs": [],
   "source": [
    "exec_context = ExecutionContext()"
   ]
  },
  {
   "cell_type": "code",
   "execution_count": null,
   "metadata": {},
   "outputs": [],
   "source": [
    "simulation = Executor(exec_context=exec_context, configs=configs)"
   ]
  },
  {
   "cell_type": "markdown",
   "metadata": {},
   "source": [
    "## Time to simulate our ecosystem model!"
   ]
  },
  {
   "cell_type": "code",
   "execution_count": null,
   "metadata": {},
   "outputs": [],
   "source": [
    "raw_result, tensor_field, sessions = simulation.execute()"
   ]
  },
  {
   "cell_type": "markdown",
   "metadata": {},
   "source": [
    "# 8. Simulation Output Preparation\n",
    "> The simulation results are returned as a list of Python dictionaries, which we then convert to a Pandas dataframe. At this stage of the process you'll manipulate and analyze your results to answer questions about your model."
   ]
  },
  {
   "cell_type": "code",
   "execution_count": null,
   "metadata": {},
   "outputs": [],
   "source": [
    "simulation_result = pd.DataFrame(raw_result)"
   ]
  },
  {
   "cell_type": "code",
   "execution_count": null,
   "metadata": {},
   "outputs": [],
   "source": [
    "raw_result[:5]"
   ]
  },
  {
   "cell_type": "code",
   "execution_count": null,
   "metadata": {},
   "outputs": [],
   "source": [
    "simulation_result.head()"
   ]
  },
  {
   "cell_type": "markdown",
   "metadata": {},
   "source": [
    "# 9. Simulation Analysis"
   ]
  },
  {
   "cell_type": "markdown",
   "metadata": {},
   "source": [
    "[Link to System Requirements](#Requirements-Analysis)"
   ]
  },
  {
   "cell_type": "code",
   "execution_count": null,
   "metadata": {},
   "outputs": [],
   "source": [
    "pd.options.plotting.backend = \"plotly\""
   ]
  },
  {
   "cell_type": "markdown",
   "metadata": {},
   "source": [
    "After plotting the results, let's go and update the parameters, and then select `Cell` and `Run All Above`:\n",
    "\n",
    "[Link to System Parameters](#2.-System-Parameters)"
   ]
  },
  {
   "cell_type": "code",
   "execution_count": null,
   "metadata": {},
   "outputs": [],
   "source": [
    "simulation_result.plot(\n",
    "    kind='line',\n",
    "    x='timestep',\n",
    "    y=['population','food']\n",
    ")"
   ]
  },
  {
   "cell_type": "code",
   "execution_count": null,
   "metadata": {},
   "outputs": [],
   "source": [
    "pd.set_option('display.max_rows', len(simulation_result))\n",
    "display(simulation_result)\n",
    "pd.reset_option('display.max_rows')"
   ]
  },
  {
   "cell_type": "code",
   "execution_count": null,
   "metadata": {},
   "outputs": [],
   "source": [
    "# https://pandas.pydata.org/pandas-docs/stable/user_guide/indexing.html\n",
    "simulation_result.query('food == 0').head()"
   ]
  },
  {
   "cell_type": "markdown",
   "metadata": {},
   "source": [
    "# System Validation"
   ]
  },
  {
   "cell_type": "markdown",
   "metadata": {},
   "source": [
    "<center><img src=\"images/edp-phase-3.png\" alt=\"Engineering Design Process, phase 1 - validation\" width=\"60%\"/>"
   ]
  },
  {
   "cell_type": "markdown",
   "metadata": {},
   "source": [
    "## Policy Functions"
   ]
  },
  {
   "cell_type": "markdown",
   "metadata": {},
   "source": [
    "An illustrative example:\n",
    "\n",
    "```python\n",
    "condition = True\n",
    "\n",
    "def policy_function(params, substep, state_history, previous_state):\n",
    "    '''\n",
    "    This logic belongs in the policy function,\n",
    "    but could also have been placed directly in the state update function.\n",
    "    '''\n",
    "    signal_value = 1 if condition else 0\n",
    "    return {'signal_name': signal_value}\n",
    "```\n",
    "\n",
    "```python\n",
    "def state_update_function(params, substep, state_history, previous_state, policy_input):\n",
    "    state_value = policy_input['signal_name']\n",
    "    return 'state_name', state_value\n",
    "```"
   ]
  },
  {
   "cell_type": "markdown",
   "metadata": {},
   "source": [
    "<center>\n",
    "<img src=\"./images/basic-psub.png\"\n",
    "     alt=\"Policy functions\"\n",
    "     style=\"width: 60%;\" />\n",
    "</center>"
   ]
  },
  {
   "cell_type": "markdown",
   "metadata": {},
   "source": [
    "<center>\n",
    "<img src=\"./images/policy-explainer.png\"\n",
    "     alt=\"Policy functions\"\n",
    "     style=\"width: 60%;\" />\n",
    "</center>"
   ]
  },
  {
   "cell_type": "markdown",
   "metadata": {},
   "source": [
    "### Policy Aggregation"
   ]
  },
  {
   "cell_type": "markdown",
   "metadata": {},
   "source": [
    "<center>\n",
    "<img src=\"./images/policy-aggregation-explainer.png\"\n",
    "     alt=\"Policy functions\"\n",
    "     style=\"width: 60%;\" />\n",
    "</center>"
   ]
  },
  {
   "cell_type": "markdown",
   "metadata": {},
   "source": [
    "## Model Improvements"
   ]
  },
  {
   "cell_type": "markdown",
   "metadata": {},
   "source": [
    "### Differential Specification Updates"
   ]
  },
  {
   "cell_type": "markdown",
   "metadata": {
    "slideshow": {
     "slide_type": "slide"
    }
   },
   "source": [
    "<center>\n",
    "<img src=\"./images/s5-differential-spec-ecosystem-policy-refactor.png\"\n",
    "     alt=\"Differential spec\"\n",
    "     style=\"width: 60%;\" />\n",
    "</center>"
   ]
  },
  {
   "cell_type": "markdown",
   "metadata": {},
   "source": [
    "State update functions `s_population()` and `s_food()` from the last part:"
   ]
  },
  {
   "cell_type": "code",
   "execution_count": null,
   "metadata": {},
   "outputs": [],
   "source": [
    "def s_population(params, substep, state_history, previous_state, policy_input):\n",
    "    population = previous_state['population'] + params['reproduction_rate'] * previous_state['food']\n",
    "    return 'population', max(math.ceil(population), 0)\n",
    "\n",
    "def s_food(params, substep, state_history, previous_state, policy_input):\n",
    "    food = previous_state['food'] - params['consumption_rate'] * previous_state['population']\n",
    "    return 'food', max(food, 0)"
   ]
  },
  {
   "cell_type": "markdown",
   "metadata": {},
   "source": [
    "Adapting to use **policy functions** to drive the process, and **state update functions** to update the state according to the **differential specification**:"
   ]
  },
  {
   "cell_type": "code",
   "execution_count": null,
   "metadata": {},
   "outputs": [],
   "source": [
    "def p_reproduction(params, substep, state_history, previous_state):\n",
    "    population_reproduction = params['reproduction_rate'] * previous_state['food']\n",
    "    return {'delta_population': population_reproduction}\n",
    "\n",
    "def p_consumption(params, substep, state_history, previous_state):\n",
    "    food_consumption = params['consumption_rate'] * previous_state['population']\n",
    "    return {'delta_food': -food_consumption}"
   ]
  },
  {
   "cell_type": "code",
   "execution_count": null,
   "metadata": {},
   "outputs": [],
   "source": [
    "def s_population(params, substep, state_history, previous_state, policy_input):\n",
    "    population = previous_state['population'] + policy_input['delta_population'] \n",
    "    return 'population', max(math.ceil(population), 0)\n",
    "\n",
    "def s_food(params, substep, state_history, previous_state, policy_input):\n",
    "    food = previous_state['food'] + policy_input['delta_food'] \n",
    "    return 'food', max(food, 0)"
   ]
  },
  {
   "cell_type": "markdown",
   "metadata": {},
   "source": [
    "### Mathematical Specification Updates"
   ]
  },
  {
   "cell_type": "markdown",
   "metadata": {},
   "source": [
    "\\begin{align}\n",
    "\\large population_t &\\large= population_{t-1} + {\\Delta population} \\quad \\textrm{(sheep)} \\tag{1} \\\\\n",
    "\\large food_t &\\large= food_{t-1} + {\\Delta food} \\quad \\textrm{(tons of grass)} \\tag{2}\n",
    "\\end{align}\n",
    "\n",
    "where the rate of change ($\\Delta$) is:\n",
    "\\begin{align}\n",
    "\\large {\\Delta population} &\\large= \\alpha * food_{t-1} \\quad \\textrm{(sheep/month)} \\\\\n",
    "\\large {\\Delta food} &\\large= -\\beta * population_{t-1} + \\gamma \\quad \\textrm{(tons of grass/month)}\n",
    "\\end{align}\n",
    "\n",
    "where:\n",
    "\n",
    "$\n",
    "\\begin{align}\n",
    "\\alpha: \\quad &\\textrm{'reproduction_rate'}\\\\\n",
    "\\beta: \\quad &\\textrm{'consumption_rate'}\\\\\n",
    "\\gamma: \\quad &\\textrm{'growth_rate'}\n",
    "\\end{align}\n",
    "$\n",
    "\n",
    "* A population consumes a food source, and reproduces at a rate proportional to the food source $\\alpha$ (alpha).\n",
    "* The food source is consumed at a rate proportional to the population $\\beta$ (beta), and grows at a constant rate $\\gamma$ (gamma)."
   ]
  },
  {
   "cell_type": "markdown",
   "metadata": {},
   "source": [
    "<center>\n",
    "<img src=\"./images/s6-differential-spec-ecosystem-with-gamma.png\"\n",
    "     alt=\"Diff spec\"\n",
    "     style=\"width: 60%\" />\n",
    "</center>"
   ]
  },
  {
   "cell_type": "code",
   "execution_count": null,
   "metadata": {},
   "outputs": [],
   "source": [
    "initial_state = {\n",
    "    'population': 50, # number of sheep\n",
    "    'food': 1000 # tons of grass\n",
    "}\n",
    "\n",
    "system_params = {\n",
    "    'reproduction_rate': [0.01], # number of sheep / month\n",
    "    'consumption_rate': [0.01], # tons of grass / month\n",
    "    'growth_rate': [10.0], # tons of grass / month\n",
    "}"
   ]
  },
  {
   "cell_type": "code",
   "execution_count": null,
   "metadata": {},
   "outputs": [],
   "source": [
    "from collections import Counter"
   ]
  },
  {
   "cell_type": "code",
   "execution_count": null,
   "metadata": {},
   "outputs": [],
   "source": [
    "A = Counter({'delta_food': 5, 'delta_population': 10})\n",
    "B = Counter({'delta_food': 5})\n",
    "A + B"
   ]
  },
  {
   "cell_type": "code",
   "execution_count": null,
   "metadata": {},
   "outputs": [],
   "source": [
    "A = Counter({'delta_food': 5, 'delta_population': 10})\n",
    "B = Counter({'delta_food': -2})\n",
    "A + B"
   ]
  },
  {
   "cell_type": "code",
   "execution_count": null,
   "metadata": {},
   "outputs": [],
   "source": [
    "def p_growth(params, substep, state_history, previous_state):\n",
    "    delta_food = params['growth_rate']\n",
    "    return {'delta_food': delta_food}"
   ]
  },
  {
   "cell_type": "code",
   "execution_count": null,
   "metadata": {},
   "outputs": [],
   "source": [
    "partial_state_update_blocks = [\n",
    "    {\n",
    "        'policies': {\n",
    "            'reproduction': p_reproduction,\n",
    "            'consumption': p_consumption, # Signal: `delta_food`\n",
    "            'growth': p_growth # Signal: `delta_food`\n",
    "        },\n",
    "        'variables': {\n",
    "            'population': s_population,\n",
    "            'food': s_food # Receives policy_input of (consumption + growth) as `delta_food`\n",
    "        }\n",
    "    }\n",
    "]"
   ]
  },
  {
   "cell_type": "code",
   "execution_count": null,
   "metadata": {},
   "outputs": [],
   "source": [
    "del configs[:]\n",
    "\n",
    "sim_config = config_sim({\n",
    "    'N': 1,\n",
    "    'T': range(400),\n",
    "    'M': system_params\n",
    "})\n",
    "\n",
    "experiment.append_configs(\n",
    "    initial_state = initial_state,\n",
    "    partial_state_update_blocks = partial_state_update_blocks,\n",
    "    sim_configs = sim_config\n",
    ")"
   ]
  },
  {
   "cell_type": "code",
   "execution_count": null,
   "metadata": {},
   "outputs": [],
   "source": [
    "exec_context = ExecutionContext()\n",
    "\n",
    "simulation = Executor(exec_context=exec_context, configs=configs)\n",
    "raw_result, tensor_field, sessions = simulation.execute()"
   ]
  },
  {
   "cell_type": "code",
   "execution_count": null,
   "metadata": {},
   "outputs": [],
   "source": [
    "simulation_result = pd.DataFrame(raw_result)\n",
    "simulation_result"
   ]
  },
  {
   "cell_type": "code",
   "execution_count": null,
   "metadata": {},
   "outputs": [],
   "source": [
    "df = simulation_result.copy()\n",
    "df = df[df.simulation == 0]\n",
    "df"
   ]
  },
  {
   "cell_type": "code",
   "execution_count": null,
   "metadata": {},
   "outputs": [],
   "source": [
    "df.plot(kind='line', x='timestep', y=['population','food'])"
   ]
  },
  {
   "cell_type": "code",
   "execution_count": null,
   "metadata": {},
   "outputs": [],
   "source": [
    "df = df[['population', 'food']]\n",
    "df.head()"
   ]
  },
  {
   "cell_type": "code",
   "execution_count": null,
   "metadata": {},
   "outputs": [],
   "source": [
    "df.pct_change()"
   ]
  },
  {
   "cell_type": "code",
   "execution_count": null,
   "metadata": {},
   "outputs": [],
   "source": [
    "diff = df.diff()\n",
    "diff"
   ]
  },
  {
   "cell_type": "code",
   "execution_count": null,
   "metadata": {},
   "outputs": [],
   "source": [
    "diff = diff.query('food <= 0')\n",
    "diff"
   ]
  },
  {
   "cell_type": "code",
   "execution_count": null,
   "metadata": {},
   "outputs": [],
   "source": [
    "df.iloc[75]"
   ]
  },
  {
   "cell_type": "markdown",
   "metadata": {},
   "source": [
    "## Model Limitations"
   ]
  },
  {
   "cell_type": "markdown",
   "metadata": {},
   "source": [
    "1. The population never dies.\n",
    "2. The system reaches a steady state of no population or food supply change."
   ]
  },
  {
   "cell_type": "markdown",
   "metadata": {},
   "source": [
    "#### Addition of a population death rate, \"epsilon\" / $\\epsilon$, that's dependent on the population size:\n",
    "<br>\n",
    "\n",
    "\\begin{align}\n",
    "\\large population_t &\\large= population_{t-1} + {\\Delta population} \\quad \\textrm{(sheep)} \\tag{1} \\\\\n",
    "\\large food_t &\\large= food_{t-1} + {\\Delta food} \\quad \\textrm{(tons of grass)} \\tag{2}\n",
    "\\end{align}\n",
    "\n",
    "where the rate of change ($\\Delta$) is:\n",
    "\\begin{align}\n",
    "\\large {\\Delta population} &\\large= \\alpha * food_{t-1} - \\epsilon * population_{t-1} \\quad \\textrm{(sheep/month)} \\\\\n",
    "\\large {\\Delta food} &\\large= -\\beta * population_{t-1} + \\gamma \\quad \\textrm{(tons of grass/month)}\n",
    "\\end{align}\n",
    "\n",
    "where:\n",
    "\n",
    "$\n",
    "\\begin{align}\n",
    "\\alpha: \\quad &\\textrm{'reproduction_rate'}\\\\\n",
    "\\epsilon: \\quad &\\textrm{'death_rate'}\\\\\n",
    "\\beta: \\quad &\\textrm{'consumption_rate'}\\\\\n",
    "\\gamma: \\quad &\\textrm{'growth_rate'}\\\\\n",
    "\\end{align}\n",
    "$\n",
    "\n",
    "* A population consumes a food source, and reproduces at a rate proportional to the food source $\\alpha$ (alpha), and dies at a rate proportional to the population size $\\epsilon$ (epsilon).\n",
    "* The food source is consumed at a rate proportional to the population $\\beta$ (beta), and grows at a constant rate $\\gamma$ (gamma)."
   ]
  },
  {
   "cell_type": "markdown",
   "metadata": {},
   "source": [
    "<center>\n",
    "<img src=\"./images/s6-differential-spec-ecosystem-final.png\"\n",
    "     alt=\"Diff spec\"\n",
    "     style=\"width: 60%\" />\n",
    "</center>"
   ]
  },
  {
   "cell_type": "code",
   "execution_count": null,
   "metadata": {},
   "outputs": [],
   "source": [
    "def p_death(params, substep, state_history, previous_state):\n",
    "    population_death = params['death_rate'] * previous_state['population']\n",
    "    return {'delta_population': -population_death}"
   ]
  },
  {
   "cell_type": "code",
   "execution_count": null,
   "metadata": {},
   "outputs": [],
   "source": [
    "initial_state = {\n",
    "    'population': 50, # number of sheep\n",
    "    'food': 1000 # tons of grass\n",
    "}\n",
    "\n",
    "system_params = {\n",
    "    'reproduction_rate': [0.01],\n",
    "    'death_rate': [0.01],\n",
    "    'consumption_rate': [0.01],\n",
    "    'growth_rate': [10.0],\n",
    "}"
   ]
  },
  {
   "cell_type": "code",
   "execution_count": null,
   "metadata": {},
   "outputs": [],
   "source": [
    "partial_state_update_blocks = [\n",
    "    {\n",
    "        'policies': {\n",
    "            'reproduction': p_reproduction,\n",
    "            'death': p_death,\n",
    "            'consumption': p_consumption,\n",
    "            'growth': p_growth\n",
    "        },\n",
    "        'variables': {\n",
    "            'population': s_population,\n",
    "            'food': s_food\n",
    "        }\n",
    "    }\n",
    "]"
   ]
  },
  {
   "cell_type": "code",
   "execution_count": null,
   "metadata": {},
   "outputs": [],
   "source": [
    "sim_config = config_sim({\n",
    "    'N': 1,\n",
    "    'T': range(1000),\n",
    "    'M': system_params\n",
    "})\n",
    "\n",
    "experiment.append_configs(\n",
    "    initial_state = initial_state,\n",
    "    partial_state_update_blocks = partial_state_update_blocks,\n",
    "    sim_configs = sim_config\n",
    ")"
   ]
  },
  {
   "cell_type": "code",
   "execution_count": null,
   "metadata": {},
   "outputs": [],
   "source": [
    "exec_context = ExecutionContext()\n",
    "\n",
    "simulation = Executor(exec_context=exec_context, configs=configs)\n",
    "raw_result, tensor_field, sessions = simulation.execute()"
   ]
  },
  {
   "cell_type": "code",
   "execution_count": null,
   "metadata": {},
   "outputs": [],
   "source": [
    "simulation_result = pd.DataFrame(raw_result)"
   ]
  },
  {
   "cell_type": "code",
   "execution_count": null,
   "metadata": {},
   "outputs": [],
   "source": [
    "df = simulation_result.copy()\n",
    "df = df[df.simulation == 1]\n",
    "df"
   ]
  },
  {
   "cell_type": "code",
   "execution_count": null,
   "metadata": {},
   "outputs": [],
   "source": [
    "df.plot(kind='line', x='timestep', y=['population','food'])"
   ]
  },
  {
   "cell_type": "markdown",
   "metadata": {},
   "source": [
    "<br/><br/><br/>\n",
    "# Well done!\n",
    "<br/><br/><br/><br/>"
   ]
  }
 ],
 "metadata": {
  "kernelspec": {
   "display_name": "Python 3",
   "language": "python",
   "name": "python3"
  },
  "language_info": {
   "codemirror_mode": {
    "name": "ipython",
    "version": 3
   },
   "file_extension": ".py",
   "mimetype": "text/x-python",
   "name": "python",
   "nbconvert_exporter": "python",
   "pygments_lexer": "ipython3",
   "version": "3.8.8"
  }
 },
 "nbformat": 4,
 "nbformat_minor": 4
}
