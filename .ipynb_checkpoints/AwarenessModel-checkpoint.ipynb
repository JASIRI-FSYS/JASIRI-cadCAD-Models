{
 "cells": [
  {
   "cell_type": "markdown",
   "id": "6a785e69",
   "metadata": {},
   "source": [
    "# 1. The Awareness Model"
   ]
  },
  {
   "cell_type": "markdown",
   "id": "d24f3804",
   "metadata": {},
   "source": [
    "> JASIRI's awareness is generated through advertisements and promotional efforts e.g. **free tokens on referrals to other afropreneurs**."
   ]
  },
  {
   "cell_type": "markdown",
   "id": "316b723f",
   "metadata": {},
   "source": [
    "# 2. Assumptions"
   ]
  },
  {
   "cell_type": "markdown",
   "id": "bea778f9",
   "metadata": {},
   "source": [
    "* We explicitly consider the decay in retention of afroprenuers due to forgetting.\n",
    "* Initial awareness level prior to advertising, `Ao` is not subject to decay.\n",
    "* We exclude awareness generated via word of mouth communication."
   ]
  },
  {
   "cell_type": "code",
   "execution_count": 1,
   "id": "67509b4a",
   "metadata": {},
   "outputs": [],
   "source": [
    "# Standard libraries: \n",
    "import math\n",
    "\n",
    "# Analysis and plotting modules\n",
    "import pandas as pd\n",
    "# import plotly"
   ]
  },
  {
   "cell_type": "code",
   "execution_count": 2,
   "id": "b7eb3986",
   "metadata": {},
   "outputs": [],
   "source": [
    "# cadCAD configuration modules\n",
    "from cadCAD.configuration.utils import config_sim\n",
    "from cadCAD.configuration import Experiment\n",
    "\n",
    "# cadCAD simulation engine modules\n",
    "from cadCAD.engine import ExecutionMode, ExecutionContext\n",
    "from cadCAD.engine import Executor"
   ]
  },
  {
   "cell_type": "code",
   "execution_count": 3,
   "id": "9e01880d",
   "metadata": {},
   "outputs": [
    {
     "data": {
      "text/plain": [
       "{'At': 0}"
      ]
     },
     "execution_count": 3,
     "metadata": {},
     "output_type": "execute_result"
    }
   ],
   "source": [
    "initial_state = {\n",
    "    'At': 0,\n",
    "}\n",
    "initial_state"
   ]
  },
  {
   "cell_type": "markdown",
   "id": "d06b57c5",
   "metadata": {},
   "source": [
    "* `At` fraction of the target market aware fo jasiri at time t"
   ]
  },
  {
   "cell_type": "code",
   "execution_count": 4,
   "id": "f77cc05c",
   "metadata": {},
   "outputs": [
    {
     "data": {
      "text/plain": [
       "{'β': [0.2], 'α': [0.08]}"
      ]
     },
     "execution_count": 4,
     "metadata": {},
     "output_type": "execute_result"
    }
   ],
   "source": [
    "system_params = {\n",
    "    'β': [0.2],\n",
    "    'α': [0.08],\n",
    "}\n",
    "system_params"
   ]
  },
  {
   "cell_type": "markdown",
   "id": "8f3586e8",
   "metadata": {},
   "source": [
    "* `β` represents the responsiveness of awareness of `JASIRI_PROTOCOL` due to advertising\n",
    "* `α` represents the effect of no advertising on awareness"
   ]
  },
  {
   "cell_type": "code",
   "execution_count": 5,
   "id": "1a09fa83",
   "metadata": {},
   "outputs": [],
   "source": [
    "def NewJasiriAwarenessFraction(previous_At_state,alpha,beta):\n",
    "    value = ((1 - math.exp(alpha - beta)) * (1 - previous_At_state)) - previous_At_state\n",
    "    \n",
    "    return(value)\n",
    "    "
   ]
  },
  {
   "cell_type": "code",
   "execution_count": 6,
   "id": "54cb6146",
   "metadata": {},
   "outputs": [],
   "source": [
    "def s_At(params, substep, state_history, previous_state, policy_input): \n",
    "    previous_At_state = previous_state['At']\n",
    "    alpha = params['α']\n",
    "    beta = params['β']\n",
    "    \n",
    "    return 'At', max(NewJasiriAwarenessFraction(previous_At_state, alpha, beta), 0)"
   ]
  },
  {
   "cell_type": "code",
   "execution_count": 7,
   "id": "3375c31f",
   "metadata": {},
   "outputs": [],
   "source": [
    "partial_state_update_blocks = [\n",
    "    {\n",
    "        'policies': {},\n",
    "        # State variables\n",
    "        'variables': {\n",
    "            # Updated in parallel\n",
    "            'At': s_At\n",
    "        }\n",
    "    }\n",
    "]"
   ]
  },
  {
   "cell_type": "code",
   "execution_count": 8,
   "id": "8057f18a",
   "metadata": {},
   "outputs": [],
   "source": [
    "sim_config = config_sim({\n",
    "    \"N\": 1,\n",
    "    \"T\": range(400),\n",
    "    \"M\": system_params\n",
    "})"
   ]
  },
  {
   "cell_type": "code",
   "execution_count": 9,
   "id": "5662351e",
   "metadata": {},
   "outputs": [],
   "source": [
    "from cadCAD import configs\n",
    "del configs[:] # Clear any prior configs"
   ]
  },
  {
   "cell_type": "code",
   "execution_count": 10,
   "id": "a2bfb98a",
   "metadata": {},
   "outputs": [
    {
     "data": {
      "text/plain": [
       "{'sim_config': {'N': 1,\n",
       "  'T': range(0, 400),\n",
       "  'M': {'β': 0.2, 'α': 0.08},\n",
       "  'subset_id': 0,\n",
       "  'subset_window': deque([0, None]),\n",
       "  'simulation_id': 0,\n",
       "  'run_id': 0},\n",
       " 'initial_state': {'At': 0},\n",
       " 'seeds': {},\n",
       " 'env_processes': {},\n",
       " 'exogenous_states': {},\n",
       " 'partial_state_updates': [{'policies': {},\n",
       "   'variables': {'At': <function __main__.s_At(params, substep, state_history, previous_state, policy_input)>}}],\n",
       " 'policy_ops': [<function cadCAD.configuration.Experiment.<lambda>(a, b)>],\n",
       " 'kwargs': {},\n",
       " 'user_id': 'cadCAD_user',\n",
       " 'session_id': 'cadCAD_user=0_0',\n",
       " 'simulation_id': 0,\n",
       " 'run_id': 0,\n",
       " 'experiment_id': 0,\n",
       " 'exp_window': deque([1, 0]),\n",
       " 'subset_id': 0,\n",
       " 'subset_window': deque([0, None])}"
      ]
     },
     "execution_count": 10,
     "metadata": {},
     "output_type": "execute_result"
    }
   ],
   "source": [
    "experiment = Experiment()\n",
    "experiment.append_configs(\n",
    "    initial_state = initial_state,\n",
    "    partial_state_update_blocks = partial_state_update_blocks,\n",
    "    sim_configs = sim_config\n",
    ")\n",
    "configs[-1].__dict__"
   ]
  },
  {
   "cell_type": "code",
   "execution_count": 11,
   "id": "fcd7efc2",
   "metadata": {},
   "outputs": [],
   "source": [
    "exec_context = ExecutionContext()"
   ]
  },
  {
   "cell_type": "code",
   "execution_count": 12,
   "id": "d700f8b7",
   "metadata": {},
   "outputs": [],
   "source": [
    "simulation = Executor(exec_context=exec_context, configs=configs)"
   ]
  },
  {
   "cell_type": "code",
   "execution_count": 13,
   "id": "fb45c0bd",
   "metadata": {},
   "outputs": [
    {
     "name": "stdout",
     "output_type": "stream",
     "text": [
      "\n",
      "                  ___________    ____\n",
      "  ________ __ ___/ / ____/   |  / __ \\\n",
      " / ___/ __` / __  / /   / /| | / / / /\n",
      "/ /__/ /_/ / /_/ / /___/ ___ |/ /_/ /\n",
      "\\___/\\__,_/\\__,_/\\____/_/  |_/_____/\n",
      "by cadCAD\n",
      "\n",
      "Execution Mode: local_proc\n",
      "Configuration Count: 1\n",
      "Dimensions of the first simulation: (Timesteps, Params, Runs, Vars) = (400, 2, 1, 1)\n",
      "Execution Method: local_simulations\n",
      "SimIDs   : [0]\n",
      "SubsetIDs: [0]\n",
      "Ns       : [0]\n",
      "ExpIDs   : [0]\n",
      "Execution Mode: single_threaded\n",
      "Total execution time: 0.83s\n"
     ]
    }
   ],
   "source": [
    "raw_result, tensor_field, sessions = simulation.execute()"
   ]
  },
  {
   "cell_type": "code",
   "execution_count": 14,
   "id": "94ced088",
   "metadata": {},
   "outputs": [],
   "source": [
    "simulation_result = pd.DataFrame(raw_result)"
   ]
  }
 ],
 "metadata": {
  "kernelspec": {
   "display_name": "Python 3",
   "language": "python",
   "name": "python3"
  },
  "language_info": {
   "codemirror_mode": {
    "name": "ipython",
    "version": 3
   },
   "file_extension": ".py",
   "mimetype": "text/x-python",
   "name": "python",
   "nbconvert_exporter": "python",
   "pygments_lexer": "ipython3",
   "version": "3.8.8"
  }
 },
 "nbformat": 4,
 "nbformat_minor": 5
}
